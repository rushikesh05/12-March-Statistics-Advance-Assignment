{
  "nbformat": 4,
  "nbformat_minor": 0,
  "metadata": {
    "colab": {
      "provenance": []
    },
    "kernelspec": {
      "name": "python3",
      "display_name": "Python 3"
    },
    "language_info": {
      "name": "python"
    }
  },
  "cells": [
    {
      "cell_type": "markdown",
      "source": [
        "##Q1. Calculate the 95% confidence interval for a sample of data with a mean of 50 and a standard deviation of 5 using Python. Interpret the results.\n",
        "\n",
        "###To calculate the 95% confidence interval for a sample of data with a mean of 50 and a standard deviation of 5, we can use the scipy.stats module in Python. Specifically, we can use the t.interval() function, which calculates the confidence interval for a t-distribution.\n",
        "\n",
        "###Here is an example code that calculates the 95% confidence interval for this sample:"
      ],
      "metadata": {
        "id": "0ewjWK-A9UUP"
      }
    },
    {
      "cell_type": "code",
      "execution_count": null,
      "metadata": {
        "colab": {
          "base_uri": "https://localhost:8080/"
        },
        "id": "T9KshdDH9MS2",
        "outputId": "d54eb7b4-e828-4904-d4e3-deb3ddd5e56d"
      },
      "outputs": [
        {
          "output_type": "stream",
          "name": "stdout",
          "text": [
            "The 95% confidence interval is: (49.00789152424566, 50.99210847575434)\n"
          ]
        }
      ],
      "source": [
        "import scipy.stats as stats\n",
        "\n",
        "n = 100   # sample size\n",
        "mean = 50   # sample mean\n",
        "std = 5   # sample standard deviation\n",
        "alpha = 0.05   # significance level\n",
        "\n",
        "std_err = std / (n**0.5)   # calculate the standard error of the mean\n",
        "\n",
        "ci = stats.t.interval(1-alpha, n-1, loc=mean, scale=std_err)\n",
        "print(f\"The 95% confidence interval is: {ci}\")\n"
      ]
    },
    {
      "cell_type": "markdown",
      "source": [
        "##Interpretation:\n",
        "###We can interpret the results as follows: Based on our sample data, we are 95% confident that the true population mean falls within the range of 48.67 to 51.33. In other words, if we were to repeat our sampling process many times and calculate the confidence interval each time, we would expect 95% of those intervals to contain the true population mean."
      ],
      "metadata": {
        "id": "BsDIGFkN-sao"
      }
    },
    {
      "cell_type": "markdown",
      "source": [
        "##Q2. Conduct a chi-square goodness of fit test to determine if the distribution of colors of M&Ms in a bag matches the expected distribution of 20% blue, 20% orange, 20% green, 10% yellow, 10% red, and 20% brown. Use Python to perform the test with a significance level of 0.05.\n",
        "#Ans:-\n",
        "###To conduct a chi-square goodness of fit test in Python, we can use the scipy.stats module. Specifically, we can use the chisquare() function to test if the observed frequencies match the expected frequencies.\n",
        "\n",
        "###Here is an example code that performs the test for the M&Ms bag with the expected distribution of 20% blue, 20% orange, 20% green, 10% yellow, 10% red, and 20% brown:"
      ],
      "metadata": {
        "id": "Y9eFThdb-10O"
      }
    },
    {
      "cell_type": "code",
      "source": [
        "import numpy as np\n",
        "from scipy.stats import chisquare\n",
        "\n",
        "# observed frequencies\n",
        "observed = np.array([20, 16, 22, 12, 10, 20])  # blue, orange, green, yellow, red, brown\n",
        "\n",
        "# expected frequencies\n",
        "expected = np.array([0.2, 0.2, 0.2, 0.1, 0.1, 0.2]) * sum(observed)\n",
        "\n",
        "# perform the chi-square test\n",
        "statistic, p_value = chisquare(observed, expected)\n",
        "\n",
        "# print the results\n",
        "print(f\"Chi-square statistic: {statistic:.2f}\")\n",
        "print(f\"P-value: {p_value:.4f}\")\n"
      ],
      "metadata": {
        "colab": {
          "base_uri": "https://localhost:8080/"
        },
        "id": "Ruke47m9-nkI",
        "outputId": "fd4d3ddf-6f94-46ba-a8dc-12d58506f8de"
      },
      "execution_count": null,
      "outputs": [
        {
          "output_type": "stream",
          "name": "stdout",
          "text": [
            "Chi-square statistic: 1.40\n",
            "P-value: 0.9243\n"
          ]
        }
      ]
    },
    {
      "cell_type": "markdown",
      "source": [
        "##Interpretation:\n",
        "\n",
        "###In this case, the p-value is 0.9243, which is much greater than the significance level of 0.05. This means that we do not have sufficient evidence to reject the null hypothesis that the distribution of colors in the bag matches the expected distribution. \n",
        "###In other words, based on this test, we can conclude that there is no significant difference between the observed frequencies and the expected frequencies, and that the M&Ms in the bag appear to be distributed according to the expected proportions."
      ],
      "metadata": {
        "id": "AT84BCKYAHzG"
      }
    },
    {
      "cell_type": "markdown",
      "source": [
        "###Q3. Use Python to calculate the chi-square statistic and p-value for a contingency table with the following data:"
      ],
      "metadata": {
        "id": "7s1uYvKdBpm4"
      }
    },
    {
      "cell_type": "code",
      "source": [
        "from scipy.stats import chi2_contingency\n",
        "\n",
        "# Create the contingency table\n",
        "contingency_table = [[20, 15], [10, 25], [15, 20]]\n",
        "\n",
        "# Calculate the chi-square statistic and p-value\n",
        "chi2_stat, p_val, dof, expected = chi2_contingency(contingency_table)\n",
        "\n",
        "# Print the results\n",
        "print(\"Chi-square statistic: {:.2f}\".format(chi2_stat))\n",
        "print(\"P-value: {:.4f}\".format(p_val))\n"
      ],
      "metadata": {
        "colab": {
          "base_uri": "https://localhost:8080/"
        },
        "id": "kV7a_LZa_r8F",
        "outputId": "a3e1b3e6-dab1-43a8-cda7-29664af6df67"
      },
      "execution_count": null,
      "outputs": [
        {
          "output_type": "stream",
          "name": "stdout",
          "text": [
            "Chi-square statistic: 5.83\n",
            "P-value: 0.0541\n"
          ]
        }
      ]
    },
    {
      "cell_type": "markdown",
      "source": [
        "###the output for the chi-square test of independence is Chi-square statistic: 5.83 and P-value: 0.0541, this means that the chi-square test was conducted on a contingency table, and the calculated chi-square statistic was 5.83. The p-value associated with this test was 0.0541, which is slightly greater than the commonly used significance level of 0.05.\n",
        "\n",
        "###This suggests that we fail to reject the null hypothesis that there is no significant association between the two groups and their respective outcomes. However, the p-value is quite close to the significance level, which means that we need to interpret the results with caution.\n",
        "\n",
        "###In general, a p-value less than or equal to 0.05 is considered statistically significant, while a p-value greater than 0.05 is not statistically significant. However, the decision to reject or fail to reject the null hypothesis also depends on other factors, such as the study design, sample size, and effect size. Therefore, it is important to consider these factors in addition to the p-value when interpreting the results of a statistical analysis."
      ],
      "metadata": {
        "id": "FUcPt06QCUky"
      }
    },
    {
      "cell_type": "markdown",
      "source": [
        "##Q4. A study of the prevalence of smoking in a population of 500 individuals found that 60 individuals smoked. Use Python to calculate the 95% confidence interval for the true proportion of individuals in the population who smoke.\n",
        "\n",
        "#Ans:-\n",
        "\n",
        "###In this case, the sample size n is 500 and the sample proportion p is 60/500 = 0.12. The critical value z for a 95% confidence interval is 1.96 (obtained from a standard normal distribution table or the norm.ppf() function from the scipy.stats library). The standard error of the proportion is given by:\n",
        "         SE = sqrt((p*(1-p))/n)\n",
        "\n",
        "##Here's the Python code to calculate the confidence interval:\n",
        "\n"
      ],
      "metadata": {
        "id": "6H4Aq5qmCgT0"
      }
    },
    {
      "cell_type": "code",
      "source": [
        "import math\n",
        "from scipy.stats import norm\n",
        "\n",
        "# Define variables\n",
        "n = 500\n",
        "p = 0.12\n",
        "z = norm.ppf(0.975) # 95% confidence interval\n",
        "SE = math.sqrt((p*(1-p))/n)\n",
        "\n",
        "# Calculate confidence interval\n",
        "CI_lower = p - z*SE\n",
        "CI_upper = p + z*SE\n",
        "\n",
        "# Print results\n",
        "print(\"95% Confidence interval: ({:.4f}, {:.4f})\".format(CI_lower, CI_upper))\n"
      ],
      "metadata": {
        "colab": {
          "base_uri": "https://localhost:8080/"
        },
        "id": "sSyDs3_6B3vl",
        "outputId": "2cca4af1-afc1-4658-a811-8182d0f185d3"
      },
      "execution_count": null,
      "outputs": [
        {
          "output_type": "stream",
          "name": "stdout",
          "text": [
            "95% Confidence interval: (0.0915, 0.1485)\n"
          ]
        }
      ]
    },
    {
      "cell_type": "markdown",
      "source": [
        "###Therefore, we can be 95% confident that the true proportion of individuals in the population who smoke is between 0.0915 and 0.1485."
      ],
      "metadata": {
        "id": "fjcDWPNCDBVI"
      }
    },
    {
      "cell_type": "markdown",
      "source": [
        "##Q5. Calculate the 90% confidence interval for a sample of data with a mean of 75 and a standard deviation of 12 using Python. Interpret the results.\n",
        "\n"
      ],
      "metadata": {
        "id": "oBjqhMkeDMsw"
      }
    },
    {
      "cell_type": "code",
      "source": [
        "import math\n",
        "from scipy.stats import norm\n",
        "\n",
        "# Define variables\n",
        "x_bar = 75\n",
        "s = 12\n",
        "n = 50\n",
        "z = norm.ppf(0.95) # 90% confidence interval\n",
        "\n",
        "# Calculate confidence interval\n",
        "CI_lower = x_bar - z*(s/math.sqrt(n))\n",
        "CI_upper = x_bar + z*(s/math.sqrt(n))\n",
        "\n",
        "# Print results\n",
        "print(\"90% Confidence interval: ({:.2f}, {:.2f})\".format(CI_lower, CI_upper))\n"
      ],
      "metadata": {
        "colab": {
          "base_uri": "https://localhost:8080/"
        },
        "id": "l71tDta6C8K6",
        "outputId": "776f110b-b429-48e2-a6ba-f54a7169f31d"
      },
      "execution_count": null,
      "outputs": [
        {
          "output_type": "stream",
          "name": "stdout",
          "text": [
            "90% Confidence interval: (72.21, 77.79)\n"
          ]
        }
      ]
    },
    {
      "cell_type": "markdown",
      "source": [
        "###Therefore, we can be 90% confident that the true population mean falls between 72.21 and 77.79 based on this sample of data with a mean of 75 and a standard deviation of 12."
      ],
      "metadata": {
        "id": "El3CxfP_D6dC"
      }
    },
    {
      "cell_type": "markdown",
      "source": [
        "##Q6. Use Python to plot the chi-square distribution with 10 degrees of freedom. Label the axes and shade the area corresponding to a chi-square statistic of 15."
      ],
      "metadata": {
        "id": "Qh7x6r59EGp8"
      }
    },
    {
      "cell_type": "code",
      "source": [
        "import numpy as np\n",
        "import matplotlib.pyplot as plt\n",
        "from scipy.stats import chi2\n",
        "\n",
        "# Define degrees of freedom\n",
        "df = 10\n",
        "\n",
        "# Define range of values for chi-square distribution\n",
        "x = np.linspace(0, 30, 500)\n",
        "\n",
        "# Calculate probability density function (PDF) at each point\n",
        "y = chi2.pdf(x, df)\n",
        "\n",
        "# Create plot\n",
        "fig, ax = plt.subplots(figsize=(8, 6))\n",
        "\n",
        "# Plot chi-square distribution curve\n",
        "ax.plot(x, y, label='Chi-square distribution with df={}'.format(df))\n",
        "\n",
        "# Shade area corresponding to chi-square statistic of 15\n",
        "x_shade = np.linspace(15, 30, 100)\n",
        "y_shade = chi2.pdf(x_shade, df)\n",
        "ax.fill_between(x_shade, y_shade, 0, alpha=0.3)\n",
        "\n",
        "# Add labels and title\n",
        "ax.set_xlabel('Chi-square statistic')\n",
        "ax.set_ylabel('Probability density')\n",
        "ax.set_title('Chi-square distribution with 10 degrees of freedom')\n",
        "\n",
        "# Show plot\n",
        "plt.show()\n"
      ],
      "metadata": {
        "colab": {
          "base_uri": "https://localhost:8080/",
          "height": 404
        },
        "id": "0xdI0mS5DzrO",
        "outputId": "c7801366-4da6-473b-97eb-1ada32d213bf"
      },
      "execution_count": null,
      "outputs": [
        {
          "output_type": "display_data",
          "data": {
            "text/plain": [
              "<Figure size 576x432 with 1 Axes>"
            ],
            "image/png": "[encoded data removed]"
          },
          "metadata": {
            "needs_background": "light"
          }
        }
      ]
    },
    {
      "cell_type": "markdown",
      "source": [
        "###The x-axis represents the chi-square statistic values, and the y-axis represents the probability density values. The shaded area represents the probability of obtaining a chi-square statistic of 15 or higher under the chi-square distribution with 10 degrees of freedom."
      ],
      "metadata": {
        "id": "aXno_QbuEifj"
      }
    },
    {
      "cell_type": "markdown",
      "source": [
        "##Q7. A random sample of 1000 people was asked if they preferred Coke or Pepsi. Of the sample, 520 preferred Coke. Calculate a 99% confidence interval for the true proportion of people in the population who prefer Coke.\n",
        "\n",
        "###To calculate the 99% confidence interval for the true proportion of people in the population who prefer Coke, we can use the formula:\n",
        "\n",
        "\n",
        "     CI = p̂ ± z*(√(p̂(1-p̂)/n))\n",
        "###where\n",
        "     p̂ is the sample proportion, \n",
        "     n is the sample size, \n",
        "     z is the critical value from the standard normal distribution corresponding to the desired confidence level, \n",
        "     and √ is the square root function.\n",
        "\n",
        "###In this case, the sample size is 1000 and the proportion who preferred Coke is 520/1000 = 0.52. We need to find the critical value z for a 99% confidence interval. We can use the norm.ppf() function from the scipy.stats library to obtain the critical value.\n",
        "\n",
        "###Here's the Python code to calculate the confidence interval:"
      ],
      "metadata": {
        "id": "0BCv_zR4EpGf"
      }
    },
    {
      "cell_type": "code",
      "source": [
        "import math\n",
        "from scipy.stats import norm\n",
        "\n",
        "# Define variables\n",
        "n = 1000\n",
        "p_hat = 0.52\n",
        "z = norm.ppf(0.995) # 99% confidence interval\n",
        "\n",
        "# Calculate confidence interval\n",
        "CI_lower = p_hat - z*(math.sqrt(p_hat*(1-p_hat)/n))\n",
        "CI_upper = p_hat + z*(math.sqrt(p_hat*(1-p_hat)/n))\n",
        "\n",
        "# Print results\n",
        "print(\"99% Confidence interval: ({:.4f}, {:.4f})\".format(CI_lower, CI_upper))\n"
      ],
      "metadata": {
        "colab": {
          "base_uri": "https://localhost:8080/"
        },
        "id": "cNi0ZhyREUKw",
        "outputId": "23ab3719-4463-4d19-a228-210a51762e2e"
      },
      "execution_count": null,
      "outputs": [
        {
          "output_type": "stream",
          "name": "stdout",
          "text": [
            "99% Confidence interval: (0.4793, 0.5607)\n"
          ]
        }
      ]
    },
    {
      "cell_type": "markdown",
      "source": [
        "###Therefore, we can be 99% confident that the true proportion of people in the population who prefer Coke falls between 0.4793 and 0.5607 based on this sample of 1000 people."
      ],
      "metadata": {
        "id": "ieL7Qbl2IefX"
      }
    },
    {
      "cell_type": "markdown",
      "source": [
        "##Q8. A researcher hypothesizes that a coin is biased towards tails. They flip the coin 100 times and observe 45 tails. Conduct a chi-square goodness of fit test to determine if the observed frequencies match the expected frequencies of a fair coin. Use a significance level of 0.05.\n",
        "\n",
        "#Ans:-\n",
        "\n",
        "###Based on the given problem, we are supposed to conduct a chi-square goodness of fit test to determine whether a coin is biased towards tails. The researcher has flipped the coin 100 times and observed 45 tails.\n",
        "\n",
        "###First, we need to state the null and alternative hypotheses. \n",
        "* The null hypothesis is that the coin is fair and has an equal probability of landing on heads or tails. \n",
        "* The alternative hypothesis is that the coin is biased towards tails.\n",
        "\n",
        "###Next, we need to choose a significance level, which is given as 0.05 in this case.\n",
        "\n",
        "###Then, we need to calculate the expected frequencies. \n",
        "* If the coin is fair, we would expect each outcome (heads or tails) to occur 50% of the time. Therefore, we would expect 50 tails out of 100 flips. The expected frequency of tails is 50 and the expected frequency of heads is also 50.\n",
        "\n",
        "###After that, we need to calculate the test statistic using the formula for the chi-square goodness of fit test. The test statistic comes out to be 1.\n",
        "\n",
        "###Next, we need to determine the critical value. To do this, we find the degrees of freedom, which is one less than the number of categories, which is 1 in this case. Using a chi-square distribution table with 1 degree of freedom and a significance level of 0.05, the critical value is 3.84.\n",
        "\n",
        "###We then compare the test statistic to the critical value. The test statistic of 1 is less than the critical value of 3.84.\n",
        "\n",
        "###Finally, we make a decision and interpret the results. Since the test statistic is less than the critical value, we fail to reject the null hypothesis. Therefore, we do not have sufficient evidence to conclude that the coin is biased towards tails.\n",
        "\n",
        "###In conclusion, based on the chi-square goodness of fit test with a significance level of 0.05, we do not have evidence to support the hypothesis that the coin is biased towards tails."
      ],
      "metadata": {
        "id": "1smL_HtLIm5g"
      }
    },
    {
      "cell_type": "code",
      "source": [],
      "metadata": {
        "id": "QW4M_5KSIabd"
      },
      "execution_count": null,
      "outputs": []
    },
    {
      "cell_type": "markdown",
      "source": [
        "##Q9. A study was conducted to determine if there is an association between smoking status (smoker ornon-smoker) and lung cancer diagnosis (yes or no). The results are shown in the contingency table below.Conduct a chi-square test for independence to determine if there is a significant association between Smoking status and lung cancer diagnosis.\n",
        "\n",
        "#Ans:--\n",
        "\n",
        "###To conduct a chi-square test for independence, we first need to define the null and alternative hypotheses:\n",
        "\n",
        "* Null hypothesis (H0): There is no significant association between smoking status and lung cancer diagnosis.\n",
        "* Alternative hypothesis (Ha): There is a significant association between smoking status and lung cancer diagnosis.\n",
        "###We can use the chi-square test statistic to test these hypotheses:\n",
        "\n",
        "     chi-square = Σ (O - E)² / E\n",
        "###where \n",
        "    O is the observed frequency in each cell of the contingency table, \n",
        "    and E is the expected frequency under the assumption of independence between smoking status and lung cancer diagnosis.\n",
        "\n",
        "###To calculate the expected frequencies, we can use the following formula:\n",
        "\n",
        "        E = (row total * column total) / grand total\n",
        "###where \n",
        "     the grand total is the sum of all frequencies in the table.\n",
        "\n",
        "###Here's how we can calculate the chi-square test statistic for the given contingency table:\n",
        "\n",
        "```\n",
        "Lung Cancer: Yes    Lung Cancer: No    Total\n",
        "Smoker          60                140        200\n",
        "Non-smoker      30                170        200\n",
        "Total           90                310        400\n",
        "```\n",
        "\n",
        "```\n",
        "The expected frequency for the first cell (smoker and lung cancer diagnosis: yes) is E = (200 * 90) / 400 = 45.\n",
        "The expected frequency for the second cell (smoker and lung cancer diagnosis: no) is E = (200 * 310) / 400 = 155.\n",
        "The expected frequency for the third cell (non-smoker and lung cancer diagnosis: yes) is E = (200 * 90) / 400 = 45.\n",
        "The expected frequency for the fourth cell (non-smoker and lung cancer diagnosis: no) is E = (200 * 310) / 400 = 155.\n",
        "```\n",
        "\n",
        "###Using the formula for the chi-square test statistic, we get:\n",
        "\n",
        "    chi-square = ((60-45)²/45) + ((140-155)²/155) + ((30-45)²/45) + ((170-155)²/155)\n",
        "    chi-square = 6.31\n",
        "###To determine the p-value associated with this test statistic, we need to find the degrees of freedom (df). The degrees of freedom for a chi-square test of independence with a 2x2 contingency table is:\n",
        "\n",
        "    df = (number of rows - 1) * (number of columns - 1)\n",
        "    df = (2-1) * (2-1) = 1\n",
        "###Using a chi-square distribution table or calculator with 1 degree of freedom and a significance level of 0.05, we find that the critical value of chi-square is 3.84.\n",
        "\n",
        "###Since our calculated chi-square value of 6.31 is greater than the critical value of 3.84, we can reject the null hypothesis and conclude that there is a significant association between smoking status and lung cancer diagnosis."
      ],
      "metadata": {
        "id": "S-Np00PSMt_E"
      }
    },
    {
      "cell_type": "code",
      "source": [],
      "metadata": {
        "id": "aPqOATQQNbDv"
      },
      "execution_count": null,
      "outputs": []
    },
    {
      "cell_type": "markdown",
      "source": [
        "##Q10. A study was conducted to determine if the proportion of people who prefer milk chocolate, dark chocolate, or white chocolate is different in the U.S. versus the U.K. A random sample of 500 people from the U.S. and a random sample of 500 people from the U.K. were surveyed. The results are shown in the contingency table below. Conduct a chi-square test for independence to determine if there is a significant association between chocolate preference and country of origin.\n",
        "\n",
        "#Ans:--\n",
        "\n",
        "###To conduct a chi-square test for independence, we first need to define the null and alternative hypotheses:\n",
        "\n",
        "* Null hypothesis (H0): There is no significant association between chocolate preference and country of origin.\n",
        "* Alternative hypothesis (Ha): There is a significant association between chocolate preference and country of origin.\n",
        "###We can use the chi-square test statistic to test these hypotheses:\n",
        "\n",
        "           chi-square = Σ (O - E)² / E\n",
        "###where \n",
        "       O is the observed frequency in each cell of the contingency table, \n",
        "       E is the expected frequency under the assumption of independence between chocolate preference and country of origin.\n",
        "\n",
        "###To calculate the expected frequencies, we can use the following formula:\n",
        "\n",
        "       E = (row total * column total) / grand total\n",
        "###where \n",
        "     the grand total is the sum of all frequencies in the table.\n",
        "\n",
        "###Here's how we can calculate the chi-square test statistic for the given contingency table:\n",
        "\n",
        "```\n",
        "                    Milk Chocolate    Dark Chocolate    White Chocolate     Total\n",
        "U.S. (n=500)           200                150               150             500\n",
        "U.K. (n=500)           225                175               100             500\n",
        "Total                  425                325               250            1000\n",
        "```\n",
        "\n",
        "* The expected frequency for the first cell (U.S. and milk chocolate) is E = (500 * 425) / 1000 = 212.5.\n",
        "* The expected frequency for the second cell (U.S. and dark chocolate) is E = (500 * 325) / 1000 = 162.5.\n",
        "* The expected frequency for the third cell (U.S. and white chocolate) is E = (500 * 250) / 1000 = 125.\n",
        "* The expected frequency for the fourth cell (U.K. and milk chocolate) is E = (500 * 425) / 1000 = 212.5.\n",
        "* The expected frequency for the fifth cell (U.K. and dark chocolate) is E = (500 * 325) / 1000 = 162.5.\n",
        "* The expected frequency for the sixth cell (U.K. and white chocolate) is E = (500 * 250) / 1000 = 125.\n",
        "###Using the formula for the chi-square test statistic, we get:\n",
        "\n",
        "      chi-square = ((200-212.5)²/212.5) + ((150-162.5)²/162.5) + ((150-125)²/125) + ((225-212.5)²/212.5) + ((175-162.5)²/162.5) + ((100-125)²/125) chi-square = 18.36\n",
        "###To determine the p-value associated with this test statistic, we need to find the degrees of freedom (df). The degrees of freedom for a chi-square test of independence with a 3x2 contingency table is:\n",
        "\n",
        "       df = (number of rows - 1) * (number of columns - 1)\n",
        "       df = (2-1) * (3-1) = 2\n",
        "###Using a chi-square distribution table or calculator with 2 degrees of freedom and a significance level of 0.01, we find that the critical value of chi-square is 9.21.\n",
        "\n",
        "###Since our calculated chi-square value of 18.36 is greater than the critical value of 9.21, we can reject the null hypothesis and conclude that there is a significant association between chocolate preference and country of origin at the 0.01 level of significance.\n",
        "\n"
      ],
      "metadata": {
        "id": "dbk2DdmUbJy8"
      }
    },
    {
      "cell_type": "code",
      "source": [],
      "metadata": {
        "id": "rjxDL8pccuL9"
      },
      "execution_count": null,
      "outputs": []
    },
    {
      "cell_type": "markdown",
      "source": [
        "##Q11. A random sample of 30 people was selected from a population with an unknown mean and standard deviation. The sample mean was found to be 72 and the sample standard deviation was found to be 10. Conduct a hypothesis test to determine if the population mean is significantly different from 70. Use a significance level of 0.05.\n",
        "\n",
        "###Here \n",
        "     we want to conduct a hypothesis test for a population mean \n",
        "     with a sample size of 30, \n",
        "     sample mean of 72, \n",
        "     sample standard deviation of 10, \n",
        "     and a null hypothesis of population mean = 70.        \n",
        "     The alternative hypothesis is that the population mean is significantly different from 70.\n",
        "\n",
        "##We will use a t-test since the population standard deviation is unknown.\n",
        "\n",
        "###The test statistic is calculated as:\n",
        "\n",
        "     t = (sample mean - hypothesized mean) / (sample standard deviation / sqrt(sample size))\n",
        "\n",
        "    t = (72 - 70) / (10 / sqrt(30)) = 1.39\n",
        "\n",
        "    The degrees of freedom for this test are 30 - 1 = 29.\n",
        "\n",
        "     Using a t-table or a calculator, we find that the p-value for a two-tailed test with 29 degrees of freedom and a t-value of 1.39 is approximately 0.174.\n",
        "\n",
        "\n",
        "###Since the p-value is greater than the significance level of 0.05, we fail to reject the null hypothesis. Therefore, we do not have sufficient evidence to conclude that the population mean is significantly different from 70 at a 5% level of significance."
      ],
      "metadata": {
        "id": "niOmh42gc2zN"
      }
    },
    {
      "cell_type": "code",
      "source": [],
      "metadata": {
        "id": "39Xe5_hidYq2"
      },
      "execution_count": null,
      "outputs": []
    }
  ]
}